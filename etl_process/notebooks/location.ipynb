{
 "cells": [
  {
   "cell_type": "markdown",
   "metadata": {},
   "source": [
    "# Notebook to merge location data with cleaned data, ready for loading into SQL "
   ]
  },
  {
   "cell_type": "code",
   "execution_count": 25,
   "metadata": {},
   "outputs": [],
   "source": [
    "import pandas as pd \n",
    "\n",
    "clean_df = pd.read_csv(\"../data/raw/unique_org_names.csv\")\n",
    "actual_df = pd.read_csv(\"../data/processed/ae_data_cleaned.csv\")\n",
    "\n",
    "clean_df['org_name'] = clean_df[\"org_name\"].str.strip()\n",
    "actual_df['org_name'] = actual_df[\"org_name\"].str.strip()\n",
    "\n",
    "ae_location = actual_df.merge(clean_df, on='org_name', how='left')\n",
    "ae_location.head()\n",
    "\n",
    "ae_location.to_csv('../data/processed/final_ae.csv', index=False)\n"
   ]
  },
  {
   "cell_type": "markdown",
   "metadata": {},
   "source": [
    "# I need to change period to datetime "
   ]
  },
  {
   "cell_type": "code",
   "execution_count": 23,
   "metadata": {},
   "outputs": [
    {
     "name": "stdout",
     "output_type": "stream",
     "text": [
      "0   2020-01-01\n",
      "1   2020-01-01\n",
      "2   2020-01-01\n",
      "3   2020-01-01\n",
      "4   2020-01-01\n",
      "Name: period, dtype: datetime64[ns]\n"
     ]
    },
    {
     "data": {
      "text/plain": [
       "period                          datetime64[ns]\n",
       "org_code                                object\n",
       "org_name                                object\n",
       "ae_attendances_type_1                  float64\n",
       "attendances_over_4hrs_type_1           float64\n",
       "patients_12hr_wait                       int64\n",
       "emergency_admissions_type_1              int64\n",
       "postcode                                object\n",
       "latitude                               float64\n",
       "longitude                              float64\n",
       "dtype: object"
      ]
     },
     "execution_count": 23,
     "metadata": {},
     "output_type": "execute_result"
    }
   ],
   "source": [
    "ae_location.shape\n",
    "ae_location.dtypes\n",
    "\n",
    "ae_location['period'] = pd.to_datetime(ae_location['period'])\n",
    "ae_location.dtypes\n",
    "\n",
    "# Step 1: Confirm datetime conversion\n",
    "print(ae_location[\"period\"].head())  # Should show datetime64[ns] format\n",
    "\n",
    "# # Step 2: Overwrite the CSV with updated 'period'\n",
    "ae_location.to_csv(\"../data/processed/location_ae_combined.csv\", index=False)\n",
    "\n",
    "ae_location.dtypes\n"
   ]
  },
  {
   "cell_type": "code",
   "execution_count": 24,
   "metadata": {},
   "outputs": [
    {
     "name": "stdout",
     "output_type": "stream",
     "text": [
      "0    2020-01-01\n",
      "1    2020-01-01\n",
      "2    2020-01-01\n",
      "3    2020-01-01\n",
      "4    2020-01-01\n",
      "Name: period, dtype: object\n"
     ]
    },
    {
     "data": {
      "text/plain": [
       "period                           object\n",
       "org_code                         object\n",
       "org_name                         object\n",
       "ae_attendances_type_1           float64\n",
       "attendances_over_4hrs_type_1    float64\n",
       "patients_12hr_wait                int64\n",
       "emergency_admissions_type_1       int64\n",
       "postcode                         object\n",
       "latitude                        float64\n",
       "longitude                       float64\n",
       "dtype: object"
      ]
     },
     "execution_count": 24,
     "metadata": {},
     "output_type": "execute_result"
    }
   ],
   "source": [
    "df = pd.read_csv(\"../data/processed/location_ae_combined.csv\")\n",
    "\n",
    "print(df['period'].head())\n",
    "\n",
    "df.dtypes"
   ]
  },
  {
   "cell_type": "code",
   "execution_count": 26,
   "metadata": {},
   "outputs": [
    {
     "data": {
      "text/plain": [
       "period                           object\n",
       "org_code                         object\n",
       "org_name                         object\n",
       "ae_attendances_type_1           float64\n",
       "attendances_over_4hrs_type_1    float64\n",
       "patients_12hr_wait                int64\n",
       "emergency_admissions_type_1       int64\n",
       "postcode                         object\n",
       "latitude                        float64\n",
       "longitude                       float64\n",
       "dtype: object"
      ]
     },
     "execution_count": 26,
     "metadata": {},
     "output_type": "execute_result"
    }
   ],
   "source": [
    "df2 = pd.read_csv('../data/processed/final_ae.csv')\n",
    "df2.dtypes"
   ]
  }
 ],
 "metadata": {
  "kernelspec": {
   "display_name": ".venv",
   "language": "python",
   "name": "python3"
  },
  "language_info": {
   "codemirror_mode": {
    "name": "ipython",
    "version": 3
   },
   "file_extension": ".py",
   "mimetype": "text/x-python",
   "name": "python",
   "nbconvert_exporter": "python",
   "pygments_lexer": "ipython3",
   "version": "3.13.6"
  }
 },
 "nbformat": 4,
 "nbformat_minor": 2
}
